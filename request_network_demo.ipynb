{
 "cells": [
  {
   "cell_type": "markdown",
   "metadata": {},
   "source": [
    "## Demo Downloads\n",
    "\n",
    "https://github.com/sequence-toolbox/QCE-2025-Tutorial"
   ]
  },
  {
   "cell_type": "markdown",
   "metadata": {
    "id": "oIC8-bZRVH0Z"
   },
   "source": [
    "# Star Network Simulation\n",
    "\n",
    "In this file, we'll demonstrate the simulation of a more complicated network topology with requests between two nodes. These applications will act on each node, first choosing a random other node from the network and then requesting a random number of entangled pairs between the local and distant nodes. The network topology, including hardware components, is shown below:\n",
    "\n",
    "![network_topo](figures/star_network.png)"
   ]
  },
  {
   "cell_type": "markdown",
   "metadata": {
    "id": "IV7gAWc_VH0b"
   },
   "source": [
    "## Simulation 1: SeQUeNCe Basics\n",
    "\n",
    "In this example, we construct the network described above. We'll be building the topology from an external json file `star_network.json`."
   ]
  },
  {
   "cell_type": "markdown",
   "metadata": {
    "id": "W-LAw4xPVH0d"
   },
   "source": [
    "### Imports\n",
    "\n",
    "We must first import the necessary tools from SeQUeNCe.\n",
    "\n",
    "- `Topology` is a powerful class for creating and managing complex network topologies. We'll be using the `RouterNetTopo` subclass to build our network and intefrace with specific nodes and node types.\n",
    "- `RequestApp` is an example application included with SeQUeNCe. It will request entanglement with another node in the network at some specified time, using some number of reserved memories on the local node."
   ]
  },
  {
   "cell_type": "code",
   "execution_count": 1,
   "metadata": {
    "ExecuteTime": {
     "end_time": "2025-08-29T16:25:26.132216Z",
     "start_time": "2025-08-29T16:25:19.776919Z"
    },
    "colab": {
     "base_uri": "https://localhost:8080/"
    },
    "id": "_LzLk9tjy5ob",
    "outputId": "c444fc27-6a01-4155-9e14-0985176be3f1"
   },
   "outputs": [],
   "source": [
    "import numpy as np\n",
    "import pandas as pd\n",
    "import matplotlib.pyplot as plt\n",
    "from ipywidgets import interact\n",
    "from sequence.topology.router_net_topo import RouterNetTopo\n",
    "from sequence.app.request_app import RequestApp"
   ]
  },
  {
   "cell_type": "markdown",
   "metadata": {
    "id": "zG2IYYBuVH0g"
   },
   "source": [
    "### JSON Specification\n",
    "\n",
    "We will be using a json file to specify the nodes and connectivity of the network. The json file should be structured as a dictionary with the following keys:\n",
    "\n",
    "- `is_parallel`, denoting if it’s a parallel or sequential simulation (`False` for this simulation)\n",
    "- `stop_time`, the stop time of simulation (2 seconds for this simulation)\n",
    "- `nodes`, giving a list of node specifications,\n",
    "- One of the following:\n",
    "    - `qchannels`, giving a list of quantum channel specifications,\n",
    "    - `qconnections`, giving a list of two-way quantum connection specifications, and\n",
    "- One of the following:\n",
    "    - `cchannels`, giving a list of classical channel specifications (similar to qchannels)\n",
    "    - `cconnections`, giving a list of two-way classical connection specifications\n",
    "    \n",
    "The `nodes` field will provide information on the node name, the type of the node, the random number generation seed, and the number of quantum memories. We'll use the `QuantumRouter` node type, which includes the required protocols. Shown here is an example specification for the center node.\n",
    "```\n",
    "\"nodes\": [\n",
    "    {\n",
    "      \"name\": \"center\",\n",
    "      \"type\": \"QuantumRouter\",\n",
    "      \"seed\": 0,\n",
    "      \"memo_size\": 50\n",
    "    },\n",
    "    ...\n",
    "]\n",
    "```\n",
    "\n",
    "We'll use `qconnections`, which will generate two-way quantum links between nodes. We will specify the end nodes of the link, the optical attenuation, the length, and the type of the link (in this case, `meet_in_the_middle` which will generate a measurement node at the center automatically).\n",
    "```\n",
    "\"qconnections\": [\n",
    "    {\n",
    "      \"node1\": \"center\",\n",
    "      \"node2\": \"end1\",\n",
    "      \"attenuation\": 0.0002,\n",
    "      \"distance\": 500,\n",
    "      \"type\": \"meet_in_the_middle\"\n",
    "    },\n",
    "    ...\n",
    "]\n",
    "```\n",
    "\n",
    "Finally, for the classical channels, we will be using `cconnections` to create two-way classical links between nodes. We assume the channels have the same delay each way specified by the attribute `delay`.\n",
    "```\n",
    "\"cconnections\": [\n",
    "    {\n",
    "      \"node1\": \"center\",\n",
    "      \"node2\": \"end1\",\n",
    "      \"delay\": 500000000\n",
    "    },\n",
    "    ...\n",
    "]\n",
    "```"
   ]
  },
  {
   "cell_type": "markdown",
   "metadata": {
    "id": "9ng3zizcVH0j"
   },
   "source": [
    "### Building the Simulation\n",
    "\n",
    "We'll now construct the network and add our applications. This example follows the usual process to ensure that all tools function properly:\n",
    "\n",
    "1. Create the topology instance for the simulation to manage our network\n",
    "    - This class will create a simulation timeline\n",
    "    - This instantiates the Simulation Kernel (see below)\n",
    "2. Create the simulated network topology. In this case, we are using an external JSON file to specify nodes and their connectivity.\n",
    "    - This includes specifying hardware parameters in the `set_parameters` function, defined later\n",
    "    - This instantiates the Hardware, Entanglement Management, Resource Management, and Network Management modules\n",
    "3. Install custom protocols/applications and ensure all are set up properly (in Example 2)\n",
    "    - This instantiates the Application module\n",
    "4. Initialize and run the simulation\n",
    "    - We will use the `get_timeline` method to access the simulation kernel\n",
    "5. Collect and display the desired metrics\n"
   ]
  },
  {
   "cell_type": "code",
   "execution_count": 2,
   "metadata": {
    "ExecuteTime": {
     "end_time": "2025-08-29T16:25:33.714410Z",
     "start_time": "2025-08-29T16:25:26.133140Z"
    }
   },
   "outputs": [],
   "source": [
    "network_config = \"star_network.json\"\n",
    "\n",
    "network_topo = RouterNetTopo(network_config)\n",
    "tl = network_topo.get_timeline()\n",
    "\n",
    "# the start and end nodes may be edited as desired\n",
    "node1_name = \"router1\"\n",
    "node2_name = \"router2\"\n",
    "\n",
    "node1 = node2 = None\n",
    "for router in network_topo.get_nodes_by_type(RouterNetTopo.QUANTUM_ROUTER):\n",
    "    if router.name == node1_name:\n",
    "        node1 = router\n",
    "    elif router.name == node2_name:\n",
    "        node2 = router\n",
    "\n",
    "# create application to request entanglement\n",
    "app1 = RequestApp(node1)\n",
    "app2 = RequestApp(node2)\n",
    "\n",
    "tl.init()\n",
    "app1.start(node2_name, start_t=1e12, end_t=2e12, memo_size=25, fidelity=0.9)\n",
    "tl.run()"
   ]
  },
  {
   "cell_type": "markdown",
   "metadata": {},
   "source": [
    "For this simulation, the main metric we'll look at is how many memories were entangled using the supplied parameters. We can also look at the state of each memory on node 1 at the time the simulation finished."
   ]
  },
  {
   "cell_type": "code",
   "execution_count": 3,
   "metadata": {
    "ExecuteTime": {
     "end_time": "2025-08-29T16:25:33.721793Z",
     "start_time": "2025-08-29T16:25:33.715133Z"
    }
   },
   "outputs": [
    {
     "name": "stdout",
     "output_type": "stream",
     "text": [
      "Total memories entangled: 10\n",
      "\n",
      "Memory entanglement:\n",
      "router1 memories\n",
      "   Remote Node  Fidelity  Entanglement Time\n",
      "0         None  0.000000      -1.000000e-12\n",
      "1       center  0.850000       1.999013e+00\n",
      "2      router2  0.867125       1.996254e+00\n",
      "3         None  0.000000      -1.000000e-12\n",
      "4         None  0.000000      -1.000000e-12\n",
      "5         None  0.000000      -1.000000e-12\n",
      "6      router2  0.831017       1.998259e+00\n",
      "7         None  0.000000      -1.000000e-12\n",
      "8      router2  0.899037       1.980493e+00\n",
      "9         None  0.000000      -1.000000e-12\n",
      "10        None  0.000000      -1.000000e-12\n",
      "11        None  0.000000      -1.000000e-12\n",
      "12      center  0.913403       1.999008e+00\n",
      "13        None  0.000000      -1.000000e-12\n",
      "14      center  0.850000       1.999757e+00\n",
      "15        None  0.000000      -1.000000e-12\n",
      "16        None  0.000000      -1.000000e-12\n",
      "17      center  0.884146       1.999257e+00\n",
      "18      center  0.850000       1.998013e+00\n",
      "19        None  0.000000      -1.000000e-12\n",
      "20        None  0.000000      -1.000000e-12\n",
      "21        None  0.000000      -1.000000e-12\n",
      "22      center  0.884146       1.999262e+00\n",
      "23        None  0.000000      -1.000000e-12\n",
      "24        None  0.000000      -1.000000e-12\n",
      "25        None  0.000000      -1.000000e-12\n",
      "26        None  0.000000      -1.000000e-12\n",
      "27        None  0.000000      -1.000000e-12\n",
      "28        None  0.000000      -1.000000e-12\n",
      "29        None  0.000000      -1.000000e-12\n",
      "30        None  0.000000      -1.000000e-12\n",
      "31        None  0.000000      -1.000000e-12\n",
      "32        None  0.000000      -1.000000e-12\n",
      "33        None  0.000000      -1.000000e-12\n",
      "34        None  0.000000      -1.000000e-12\n",
      "35        None  0.000000      -1.000000e-12\n",
      "36        None  0.000000      -1.000000e-12\n",
      "37        None  0.000000      -1.000000e-12\n",
      "38        None  0.000000      -1.000000e-12\n",
      "39        None  0.000000      -1.000000e-12\n",
      "40        None  0.000000      -1.000000e-12\n",
      "41        None  0.000000      -1.000000e-12\n",
      "42        None  0.000000      -1.000000e-12\n",
      "43        None  0.000000      -1.000000e-12\n",
      "44        None  0.000000      -1.000000e-12\n",
      "45        None  0.000000      -1.000000e-12\n",
      "46        None  0.000000      -1.000000e-12\n",
      "47        None  0.000000      -1.000000e-12\n",
      "48        None  0.000000      -1.000000e-12\n",
      "49        None  0.000000      -1.000000e-12\n"
     ]
    }
   ],
   "source": [
    "# display metrics\n",
    "print(f\"Total memories entangled: {app1.memory_counter}\")\n",
    "\n",
    "print(\"\")\n",
    "print(\"Memory entanglement:\")\n",
    "print(node1.name, \"memories\")\n",
    "remote_nodes = []\n",
    "fidelities = []\n",
    "times = []\n",
    "for info in node1.resource_manager.memory_manager:\n",
    "    remote_nodes.append(info.remote_node)\n",
    "    fidelities.append(info.fidelity)\n",
    "    times.append(info.entangle_time * 1e-12)\n",
    "log = {\"Remote Node\": remote_nodes, \"Fidelity\": fidelities, \"Entanglement Time\": times}\n",
    "df = pd.DataFrame(log)\n",
    "print(df)"
   ]
  },
  {
   "cell_type": "markdown",
   "metadata": {},
   "source": [
    "## Simulation 2: Customization"
   ]
  },
  {
   "cell_type": "markdown",
   "metadata": {
    "id": "o3Rq0halVH0m"
   },
   "source": [
    "### Setting parameters\n",
    "\n",
    "Here we define the set_parameters function we used earlier. This function will take a `Topology` as input and change many parameters to desired values. The parameters we can change are shown in the figure below:\n",
    "\n",
    "![parameters](figures/params.png)\n",
    "\n",
    "The simulation time limit will be set using the `get_timeline` method.\n",
    "\n",
    "Quantum memories and detectors are hardware elements, and so parameters are changed by accessing the hardware included with the `QuantumRouter` and `BSMNode` node types. Many complex hardware elements, such as bsm devices or memory arrays, have methods to update parameters for all included hardware elements. This includes `update_memory_params` to change all memories in an array or `update_detector_params` to change all detectors.\n",
    "\n",
    "We will also set the success probability and swapping degradation of the entanglement swapping protocol. This will be set in the Network management Module (specifically the reservation protocol), as this information is necessary to create and manage the rules for the Resource Management module.\n",
    "\n",
    "Lastly, we'll update some parameters of the quantum channels. Quantum channels (and, similarly, classical channels) can be accessed from the `Topology` class using the `get_qchannels` method. Since these are individual hardware elements, we will set the parameters directly."
   ]
  },
  {
   "cell_type": "code",
   "execution_count": 4,
   "metadata": {
    "ExecuteTime": {
     "end_time": "2025-08-29T16:25:33.725667Z",
     "start_time": "2025-08-29T16:25:33.722532Z"
    },
    "id": "QQzq-Pe6VH0n"
   },
   "outputs": [],
   "source": [
    "def set_parameters(topology, simulation_time, attenuation):\n",
    "    \"\"\"\n",
    "    simulation_time: duration of simulation time (in ms)\n",
    "    attenuation: attenuation on quantum channels (in db/m)\n",
    "    \"\"\"\n",
    "\n",
    "    PS_PER_S = 1e12\n",
    "\n",
    "    # set timeline stop time\n",
    "    topology.get_timeline().stop_time = (simulation_time * PS_PER_S)\n",
    "\n",
    "    # set memory parameters\n",
    "    MEMO_FREQ = 2e2\n",
    "    MEMO_EXPIRE = 0\n",
    "    MEMO_EFFICIENCY = 1\n",
    "    MEMO_FIDELITY = 0.9349367588934053\n",
    "    for node in topology.get_nodes_by_type(RouterNetTopo.QUANTUM_ROUTER):\n",
    "        memory_array = node.get_components_by_type(\"MemoryArray\")[0]\n",
    "        memory_array.update_memory_params(\"frequency\", MEMO_FREQ)\n",
    "        memory_array.update_memory_params(\"coherence_time\", MEMO_EXPIRE)\n",
    "        memory_array.update_memory_params(\"efficiency\", MEMO_EFFICIENCY)\n",
    "        memory_array.update_memory_params(\"raw_fidelity\", MEMO_FIDELITY)\n",
    "\n",
    "    # set detector parameters\n",
    "    DETECTOR_EFFICIENCY = 0.9\n",
    "    DETECTOR_COUNT_RATE = 5e7\n",
    "    DETECTOR_RESOLUTION = 100\n",
    "    for node in topology.get_nodes_by_type(RouterNetTopo.BSM_NODE):\n",
    "        bsm = node.get_components_by_type(\"SingleAtomBSM\")[0]\n",
    "        bsm.update_detectors_params(\"efficiency\", DETECTOR_EFFICIENCY)\n",
    "        bsm.update_detectors_params(\"count_rate\", DETECTOR_COUNT_RATE)\n",
    "        bsm.update_detectors_params(\"time_resolution\", DETECTOR_RESOLUTION)\n",
    "\n",
    "    # set entanglement swapping parameters\n",
    "    SWAP_SUCC_PROB = 0.90\n",
    "    SWAP_DEGRADATION = 0.99\n",
    "    for node in topology.get_nodes_by_type(RouterNetTopo.QUANTUM_ROUTER):\n",
    "        node.network_manager.protocol_stack[1].set_swapping_success_rate(SWAP_SUCC_PROB)\n",
    "        node.network_manager.protocol_stack[1].set_swapping_degradation(SWAP_DEGRADATION)\n",
    "\n",
    "    # set quantum channel parameters\n",
    "    ATTENUATION = attenuation\n",
    "    QC_FREQ = 1e11\n",
    "    for qc in topology.qchannels:\n",
    "        qc.attenuation = ATTENUATION\n",
    "        qc.frequency = QC_FREQ"
   ]
  },
  {
   "cell_type": "markdown",
   "metadata": {},
   "source": [
    "### Adjusting the application\n",
    "\n",
    "We will also make our own application to collect some custom metrics. Specifically, we will modify the `get_memory` method to record the time at which entangled pairs are generated."
   ]
  },
  {
   "cell_type": "code",
   "execution_count": 5,
   "metadata": {
    "ExecuteTime": {
     "end_time": "2025-08-29T16:25:33.729309Z",
     "start_time": "2025-08-29T16:25:33.727339Z"
    }
   },
   "outputs": [],
   "source": [
    "class ModifiedRequestApp(RequestApp):\n",
    "    def __init__(self, node):\n",
    "        super().__init__(node)\n",
    "        self.entangle_times = []\n",
    "        \n",
    "    def get_memory(self, info):\n",
    "        super().get_memory(info)\n",
    "        curr_time = self.node.timeline.now()\n",
    "        self.entangle_times.append(curr_time)"
   ]
  },
  {
   "cell_type": "markdown",
   "metadata": {},
   "source": [
    "Finally, we'll run all of our code and observe the results under various parameter regimes."
   ]
  },
  {
   "cell_type": "code",
   "execution_count": 6,
   "metadata": {
    "ExecuteTime": {
     "end_time": "2025-08-29T16:25:33.733316Z",
     "start_time": "2025-08-29T16:25:33.730064Z"
    }
   },
   "outputs": [],
   "source": [
    "def test(sim_time, qc_atten, min_fidel):\n",
    "    \"\"\"\n",
    "    sim_time: simulation time (in s)\n",
    "    qc_atten: quantum channel attenuation (dB/km)\n",
    "    min_fidel: minimum requested fidelity of entanglement\n",
    "    \"\"\"\n",
    "    network_topo = RouterNetTopo(network_config)\n",
    "    tl = network_topo.get_timeline()\n",
    "\n",
    "    set_parameters(network_topo, sim_time, qc_atten)\n",
    "\n",
    "   # the start and end nodes may be edited as desired\n",
    "    node1_name = \"router1\"\n",
    "    node2_name = \"router2\"\n",
    "    \n",
    "    node1 = node2 = None\n",
    "    for router in network_topo.get_nodes_by_type(RouterNetTopo.QUANTUM_ROUTER):\n",
    "        if router.name == node1_name:\n",
    "            node1 = router\n",
    "        elif router.name == node2_name:\n",
    "            node2 = router\n",
    "    \n",
    "    # create application to request entanglement\n",
    "    app1 = ModifiedRequestApp(node1)\n",
    "    app2 = ModifiedRequestApp(node2)\n",
    "    \n",
    "    tl.init()\n",
    "    app1.start(node2_name, start_t=1e12, end_t=2e12, memo_size=25, fidelity=min_fidel)\n",
    "    tl.run()\n",
    "\n",
    "    # display metrics\n",
    "    print(\"Memory entanglement:\")\n",
    "    print(node1.name, \"memories\")\n",
    "    remote_nodes = []\n",
    "    fidelities = []\n",
    "    times = []\n",
    "    for info in node1.resource_manager.memory_manager:\n",
    "        remote_nodes.append(info.remote_node)\n",
    "        fidelities.append(info.fidelity)\n",
    "        times.append(info.entangle_time * 1e-12)\n",
    "    log = {\"Remote Node\": remote_nodes, \"Fidelity\": fidelities, \"Entanglement Time\": times}\n",
    "    df = pd.DataFrame(log)\n",
    "    print(df)\n",
    "    \n",
    "    times = np.array(app1.entangle_times) / 1e12  # convert from ps to s\n",
    "    cumulative_memories = np.linspace(1, app1.memory_counter, app1.memory_counter)\n",
    "    plt.plot(times, cumulative_memories, marker='o')\n",
    "    plt.xlabel('Simulation Time (s)')\n",
    "    plt.ylabel('Number of Entangled Memories')\n",
    "    plt.show()"
   ]
  },
  {
   "cell_type": "code",
   "execution_count": 7,
   "metadata": {
    "ExecuteTime": {
     "end_time": "2025-08-29T16:25:35.218644Z",
     "start_time": "2025-08-29T16:25:33.733885Z"
    },
    "colab": {
     "base_uri": "https://localhost:8080/",
     "height": 1000,
     "referenced_widgets": [
      "b1d2bdc7c58f42ddbcfb79d2d41bac81",
      "8ace94f4ff1b43e1b91ad40cf72ca1ed",
      "3986b5245849442b9ab71e7a2497c0f4",
      "ba0e5194d9874b9db78ad9d8e7bf5965",
      "f0754589d49942a18047bc8fc7391ab9",
      "372a7f3d35284f0bb745f7da5551b7cb",
      "bf62ed0391704fcda79813084cf52323",
      "b1dc76dd5cd44b4fac9ad03fac9e2a54",
      "d85153263cea4139917bcb39d935f4cf",
      "fac3d54942fb4105864b4d72e84453ae",
      "145c6f15a3fa4ca5bfb26f4232e4bf50",
      "23eb20472bc04a3d81d77c0ed6a719e2",
      "05162993ce9a4e81823682379ac1b716"
     ]
    },
    "id": "7VizohQTVH0o",
    "outputId": "24ce279e-7386-4b63-ec35-a2807aba1f41"
   },
   "outputs": [
    {
     "data": {
      "application/vnd.jupyter.widget-view+json": {
       "model_id": "94a93974a947441b9c7a9686bd7f6afa",
       "version_major": 2,
       "version_minor": 0
      },
      "text/plain": [
       "interactive(children=(FloatSlider(value=1.5, description='sim_time', max=4.5, min=-1.5), Dropdown(description=…"
      ]
     },
     "metadata": {},
     "output_type": "display_data"
    },
    {
     "data": {
      "text/plain": [
       "<function __main__.test(sim_time, qc_atten, min_fidel)>"
      ]
     },
     "execution_count": 7,
     "metadata": {},
     "output_type": "execute_result"
    }
   ],
   "source": [
    "interact(test, sim_time=1.5, qc_atten=[0, 2e-5, 2e-4], min_fidel=(0.9, 0.99, 0.01))"
   ]
  },
  {
   "cell_type": "code",
   "execution_count": 7,
   "metadata": {
    "ExecuteTime": {
     "end_time": "2025-08-29T16:25:35.220436Z",
     "start_time": "2025-08-29T16:25:35.219226Z"
    }
   },
   "outputs": [],
   "source": []
  }
 ],
 "metadata": {
  "colab": {
   "provenance": []
  },
  "kernelspec": {
   "display_name": "Python 3 (ipykernel)",
   "language": "python",
   "name": "python3"
  },
  "language_info": {
   "codemirror_mode": {
    "name": "ipython",
    "version": 3
   },
   "file_extension": ".py",
   "mimetype": "text/x-python",
   "name": "python",
   "nbconvert_exporter": "python",
   "pygments_lexer": "ipython3",
   "version": "3.12.0"
  },
  "widgets": {
   "application/vnd.jupyter.widget-state+json": {
    "05162993ce9a4e81823682379ac1b716": {
     "model_module": "@jupyter-widgets/base",
     "model_module_version": "1.2.0",
     "model_name": "LayoutModel",
     "state": {
      "_model_module": "@jupyter-widgets/base",
      "_model_module_version": "1.2.0",
      "_model_name": "LayoutModel",
      "_view_count": null,
      "_view_module": "@jupyter-widgets/base",
      "_view_module_version": "1.2.0",
      "_view_name": "LayoutView",
      "align_content": null,
      "align_items": null,
      "align_self": null,
      "border": null,
      "bottom": null,
      "display": null,
      "flex": null,
      "flex_flow": null,
      "grid_area": null,
      "grid_auto_columns": null,
      "grid_auto_flow": null,
      "grid_auto_rows": null,
      "grid_column": null,
      "grid_gap": null,
      "grid_row": null,
      "grid_template_areas": null,
      "grid_template_columns": null,
      "grid_template_rows": null,
      "height": null,
      "justify_content": null,
      "justify_items": null,
      "left": null,
      "margin": null,
      "max_height": null,
      "max_width": null,
      "min_height": null,
      "min_width": null,
      "object_fit": null,
      "object_position": null,
      "order": null,
      "overflow": null,
      "overflow_x": null,
      "overflow_y": null,
      "padding": null,
      "right": null,
      "top": null,
      "visibility": null,
      "width": null
     }
    },
    "145c6f15a3fa4ca5bfb26f4232e4bf50": {
     "model_module": "@jupyter-widgets/base",
     "model_module_version": "1.2.0",
     "model_name": "LayoutModel",
     "state": {
      "_model_module": "@jupyter-widgets/base",
      "_model_module_version": "1.2.0",
      "_model_name": "LayoutModel",
      "_view_count": null,
      "_view_module": "@jupyter-widgets/base",
      "_view_module_version": "1.2.0",
      "_view_name": "LayoutView",
      "align_content": null,
      "align_items": null,
      "align_self": null,
      "border": null,
      "bottom": null,
      "display": null,
      "flex": null,
      "flex_flow": null,
      "grid_area": null,
      "grid_auto_columns": null,
      "grid_auto_flow": null,
      "grid_auto_rows": null,
      "grid_column": null,
      "grid_gap": null,
      "grid_row": null,
      "grid_template_areas": null,
      "grid_template_columns": null,
      "grid_template_rows": null,
      "height": null,
      "justify_content": null,
      "justify_items": null,
      "left": null,
      "margin": null,
      "max_height": null,
      "max_width": null,
      "min_height": null,
      "min_width": null,
      "object_fit": null,
      "object_position": null,
      "order": null,
      "overflow": null,
      "overflow_x": null,
      "overflow_y": null,
      "padding": null,
      "right": null,
      "top": null,
      "visibility": null,
      "width": null
     }
    },
    "23eb20472bc04a3d81d77c0ed6a719e2": {
     "model_module": "@jupyter-widgets/controls",
     "model_module_version": "1.5.0",
     "model_name": "SliderStyleModel",
     "state": {
      "_model_module": "@jupyter-widgets/controls",
      "_model_module_version": "1.5.0",
      "_model_name": "SliderStyleModel",
      "_view_count": null,
      "_view_module": "@jupyter-widgets/base",
      "_view_module_version": "1.2.0",
      "_view_name": "StyleView",
      "description_width": "",
      "handle_color": null
     }
    },
    "372a7f3d35284f0bb745f7da5551b7cb": {
     "model_module": "@jupyter-widgets/base",
     "model_module_version": "1.2.0",
     "model_name": "LayoutModel",
     "state": {
      "_model_module": "@jupyter-widgets/base",
      "_model_module_version": "1.2.0",
      "_model_name": "LayoutModel",
      "_view_count": null,
      "_view_module": "@jupyter-widgets/base",
      "_view_module_version": "1.2.0",
      "_view_name": "LayoutView",
      "align_content": null,
      "align_items": null,
      "align_self": null,
      "border": null,
      "bottom": null,
      "display": null,
      "flex": null,
      "flex_flow": null,
      "grid_area": null,
      "grid_auto_columns": null,
      "grid_auto_flow": null,
      "grid_auto_rows": null,
      "grid_column": null,
      "grid_gap": null,
      "grid_row": null,
      "grid_template_areas": null,
      "grid_template_columns": null,
      "grid_template_rows": null,
      "height": null,
      "justify_content": null,
      "justify_items": null,
      "left": null,
      "margin": null,
      "max_height": null,
      "max_width": null,
      "min_height": null,
      "min_width": null,
      "object_fit": null,
      "object_position": null,
      "order": null,
      "overflow": null,
      "overflow_x": null,
      "overflow_y": null,
      "padding": null,
      "right": null,
      "top": null,
      "visibility": null,
      "width": null
     }
    },
    "3986b5245849442b9ab71e7a2497c0f4": {
     "model_module": "@jupyter-widgets/controls",
     "model_module_version": "1.5.0",
     "model_name": "DropdownModel",
     "state": {
      "_dom_classes": [],
      "_model_module": "@jupyter-widgets/controls",
      "_model_module_version": "1.5.0",
      "_model_name": "DropdownModel",
      "_options_labels": [
       "0",
       "1e-05",
       "2e-05"
      ],
      "_view_count": null,
      "_view_module": "@jupyter-widgets/controls",
      "_view_module_version": "1.5.0",
      "_view_name": "DropdownView",
      "description": "qc_atten",
      "description_tooltip": null,
      "disabled": false,
      "index": 0,
      "layout": "IPY_MODEL_d85153263cea4139917bcb39d935f4cf",
      "style": "IPY_MODEL_fac3d54942fb4105864b4d72e84453ae"
     }
    },
    "8ace94f4ff1b43e1b91ad40cf72ca1ed": {
     "model_module": "@jupyter-widgets/controls",
     "model_module_version": "1.5.0",
     "model_name": "FloatSliderModel",
     "state": {
      "_dom_classes": [],
      "_model_module": "@jupyter-widgets/controls",
      "_model_module_version": "1.5.0",
      "_model_name": "FloatSliderModel",
      "_view_count": null,
      "_view_module": "@jupyter-widgets/controls",
      "_view_module_version": "1.5.0",
      "_view_name": "FloatSliderView",
      "continuous_update": true,
      "description": "sim_time",
      "description_tooltip": null,
      "disabled": false,
      "layout": "IPY_MODEL_bf62ed0391704fcda79813084cf52323",
      "max": 4.5,
      "min": -1.5,
      "orientation": "horizontal",
      "readout": true,
      "readout_format": ".2f",
      "step": 0.1,
      "style": "IPY_MODEL_b1dc76dd5cd44b4fac9ad03fac9e2a54",
      "value": 1.5
     }
    },
    "b1d2bdc7c58f42ddbcfb79d2d41bac81": {
     "model_module": "@jupyter-widgets/controls",
     "model_module_version": "1.5.0",
     "model_name": "VBoxModel",
     "state": {
      "_dom_classes": [
       "widget-interact"
      ],
      "_model_module": "@jupyter-widgets/controls",
      "_model_module_version": "1.5.0",
      "_model_name": "VBoxModel",
      "_view_count": null,
      "_view_module": "@jupyter-widgets/controls",
      "_view_module_version": "1.5.0",
      "_view_name": "VBoxView",
      "box_style": "",
      "children": [
       "IPY_MODEL_8ace94f4ff1b43e1b91ad40cf72ca1ed",
       "IPY_MODEL_3986b5245849442b9ab71e7a2497c0f4",
       "IPY_MODEL_ba0e5194d9874b9db78ad9d8e7bf5965",
       "IPY_MODEL_f0754589d49942a18047bc8fc7391ab9"
      ],
      "layout": "IPY_MODEL_372a7f3d35284f0bb745f7da5551b7cb"
     }
    },
    "b1dc76dd5cd44b4fac9ad03fac9e2a54": {
     "model_module": "@jupyter-widgets/controls",
     "model_module_version": "1.5.0",
     "model_name": "SliderStyleModel",
     "state": {
      "_model_module": "@jupyter-widgets/controls",
      "_model_module_version": "1.5.0",
      "_model_name": "SliderStyleModel",
      "_view_count": null,
      "_view_module": "@jupyter-widgets/base",
      "_view_module_version": "1.2.0",
      "_view_name": "StyleView",
      "description_width": "",
      "handle_color": null
     }
    },
    "ba0e5194d9874b9db78ad9d8e7bf5965": {
     "model_module": "@jupyter-widgets/controls",
     "model_module_version": "1.5.0",
     "model_name": "FloatSliderModel",
     "state": {
      "_dom_classes": [],
      "_model_module": "@jupyter-widgets/controls",
      "_model_module_version": "1.5.0",
      "_model_name": "FloatSliderModel",
      "_view_count": null,
      "_view_module": "@jupyter-widgets/controls",
      "_view_module_version": "1.5.0",
      "_view_name": "FloatSliderView",
      "continuous_update": true,
      "description": "min_fidel",
      "description_tooltip": null,
      "disabled": false,
      "layout": "IPY_MODEL_145c6f15a3fa4ca5bfb26f4232e4bf50",
      "max": 0.99,
      "min": 0.9,
      "orientation": "horizontal",
      "readout": true,
      "readout_format": ".2f",
      "step": 0.01,
      "style": "IPY_MODEL_23eb20472bc04a3d81d77c0ed6a719e2",
      "value": 0.9400000000000001
     }
    },
    "bf62ed0391704fcda79813084cf52323": {
     "model_module": "@jupyter-widgets/base",
     "model_module_version": "1.2.0",
     "model_name": "LayoutModel",
     "state": {
      "_model_module": "@jupyter-widgets/base",
      "_model_module_version": "1.2.0",
      "_model_name": "LayoutModel",
      "_view_count": null,
      "_view_module": "@jupyter-widgets/base",
      "_view_module_version": "1.2.0",
      "_view_name": "LayoutView",
      "align_content": null,
      "align_items": null,
      "align_self": null,
      "border": null,
      "bottom": null,
      "display": null,
      "flex": null,
      "flex_flow": null,
      "grid_area": null,
      "grid_auto_columns": null,
      "grid_auto_flow": null,
      "grid_auto_rows": null,
      "grid_column": null,
      "grid_gap": null,
      "grid_row": null,
      "grid_template_areas": null,
      "grid_template_columns": null,
      "grid_template_rows": null,
      "height": null,
      "justify_content": null,
      "justify_items": null,
      "left": null,
      "margin": null,
      "max_height": null,
      "max_width": null,
      "min_height": null,
      "min_width": null,
      "object_fit": null,
      "object_position": null,
      "order": null,
      "overflow": null,
      "overflow_x": null,
      "overflow_y": null,
      "padding": null,
      "right": null,
      "top": null,
      "visibility": null,
      "width": null
     }
    },
    "d85153263cea4139917bcb39d935f4cf": {
     "model_module": "@jupyter-widgets/base",
     "model_module_version": "1.2.0",
     "model_name": "LayoutModel",
     "state": {
      "_model_module": "@jupyter-widgets/base",
      "_model_module_version": "1.2.0",
      "_model_name": "LayoutModel",
      "_view_count": null,
      "_view_module": "@jupyter-widgets/base",
      "_view_module_version": "1.2.0",
      "_view_name": "LayoutView",
      "align_content": null,
      "align_items": null,
      "align_self": null,
      "border": null,
      "bottom": null,
      "display": null,
      "flex": null,
      "flex_flow": null,
      "grid_area": null,
      "grid_auto_columns": null,
      "grid_auto_flow": null,
      "grid_auto_rows": null,
      "grid_column": null,
      "grid_gap": null,
      "grid_row": null,
      "grid_template_areas": null,
      "grid_template_columns": null,
      "grid_template_rows": null,
      "height": null,
      "justify_content": null,
      "justify_items": null,
      "left": null,
      "margin": null,
      "max_height": null,
      "max_width": null,
      "min_height": null,
      "min_width": null,
      "object_fit": null,
      "object_position": null,
      "order": null,
      "overflow": null,
      "overflow_x": null,
      "overflow_y": null,
      "padding": null,
      "right": null,
      "top": null,
      "visibility": null,
      "width": null
     }
    },
    "f0754589d49942a18047bc8fc7391ab9": {
     "model_module": "@jupyter-widgets/output",
     "model_module_version": "1.0.0",
     "model_name": "OutputModel",
     "state": {
      "_dom_classes": [],
      "_model_module": "@jupyter-widgets/output",
      "_model_module_version": "1.0.0",
      "_model_name": "OutputModel",
      "_view_count": null,
      "_view_module": "@jupyter-widgets/output",
      "_view_module_version": "1.0.0",
      "_view_name": "OutputView",
      "layout": "IPY_MODEL_05162993ce9a4e81823682379ac1b716",
      "msg_id": "",
      "outputs": [
       {
        "name": "stdout",
        "output_type": "stream",
        "text": [
         "Memory entanglement:\n",
         "router1 memories\n",
         "   Remote Node  Fidelity  Entanglement Time\n",
         "0         None  0.000000      -1.000000e-12\n",
         "1         None  0.000000      -1.000000e-12\n",
         "2      router2  0.947515       1.329254e+00\n",
         "3       center  0.934937       1.498505e+00\n",
         "4      router2  0.947515       1.244256e+00\n",
         "5         None  0.000000      -1.000000e-12\n",
         "6         None  0.000000      -1.000000e-12\n",
         "7         None  0.000000      -1.000000e-12\n",
         "8       center  0.934937       1.497508e+00\n",
         "9         None  0.000000      -1.000000e-12\n",
         "10        None  0.000000      -1.000000e-12\n",
         "11        None  0.000000      -1.000000e-12\n",
         "12     router2  0.926796       1.496254e+00\n",
         "13        None  0.000000      -1.000000e-12\n",
         "14      center  0.934937       1.498505e+00\n",
         "15        None  0.000000      -1.000000e-12\n",
         "16        None  0.000000      -1.000000e-12\n",
         "17        None  0.000000      -1.000000e-12\n",
         "18        None  0.000000      -1.000000e-12\n",
         "19        None  0.000000      -1.000000e-12\n",
         "20        None  0.000000      -1.000000e-12\n",
         "21        None  0.000000      -1.000000e-12\n",
         "22      center  0.934937       1.498505e+00\n",
         "23     router2  0.947515       1.423505e+00\n",
         "24        None  0.000000      -1.000000e-12\n",
         "25        None  0.000000      -1.000000e-12\n",
         "26        None  0.000000      -1.000000e-12\n",
         "27        None  0.000000      -1.000000e-12\n",
         "28        None  0.000000      -1.000000e-12\n",
         "29        None  0.000000      -1.000000e-12\n",
         "30        None  0.000000      -1.000000e-12\n",
         "31        None  0.000000      -1.000000e-12\n",
         "32        None  0.000000      -1.000000e-12\n",
         "33        None  0.000000      -1.000000e-12\n",
         "34        None  0.000000      -1.000000e-12\n",
         "35        None  0.000000      -1.000000e-12\n",
         "36        None  0.000000      -1.000000e-12\n",
         "37        None  0.000000      -1.000000e-12\n",
         "38        None  0.000000      -1.000000e-12\n",
         "39        None  0.000000      -1.000000e-12\n",
         "40        None  0.000000      -1.000000e-12\n",
         "41        None  0.000000      -1.000000e-12\n",
         "42        None  0.000000      -1.000000e-12\n",
         "43        None  0.000000      -1.000000e-12\n",
         "44        None  0.000000      -1.000000e-12\n",
         "45        None  0.000000      -1.000000e-12\n",
         "46        None  0.000000      -1.000000e-12\n",
         "47        None  0.000000      -1.000000e-12\n",
         "48        None  0.000000      -1.000000e-12\n",
         "49        None  0.000000      -1.000000e-12\n"
        ]
       }
      ]
     }
    },
    "fac3d54942fb4105864b4d72e84453ae": {
     "model_module": "@jupyter-widgets/controls",
     "model_module_version": "1.5.0",
     "model_name": "DescriptionStyleModel",
     "state": {
      "_model_module": "@jupyter-widgets/controls",
      "_model_module_version": "1.5.0",
      "_model_name": "DescriptionStyleModel",
      "_view_count": null,
      "_view_module": "@jupyter-widgets/base",
      "_view_module_version": "1.2.0",
      "_view_name": "StyleView",
      "description_width": ""
     }
    }
   }
  }
 },
 "nbformat": 4,
 "nbformat_minor": 4
}
