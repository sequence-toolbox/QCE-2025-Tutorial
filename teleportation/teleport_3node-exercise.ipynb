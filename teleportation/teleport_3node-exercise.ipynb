{
 "cells": [
  {
   "cell_type": "markdown",
   "id": "de00ffbb-db06-4739-8631-2ad047bf436c",
   "metadata": {},
   "source": [
    "# Quantum Teleporation Application -- 3 Node"
   ]
  },
  {
   "cell_type": "markdown",
   "id": "ff415ec6-b546-47a1-a1cc-03d3944d81e6",
   "metadata": {},
   "source": [
    "In this tutorial, we'll do an exercise on a 3-node quantum network: Alice, Bob, and Charlie"
   ]
  },
  {
   "cell_type": "markdown",
   "id": "3f5ab728-0253-44a6-86ef-9765ef57233c",
   "metadata": {},
   "source": [
    "## 1. The Basics\n",
    "\n",
    "The figure below shows the 3-node quantum network."
   ]
  },
  {
   "cell_type": "markdown",
   "id": "9af1a5d0-a014-496c-9573-965a9017c550",
   "metadata": {},
   "source": [
    "<img src=\"../figures/teleport-3node.png\" width=\"800\">"
   ]
  },
  {
   "cell_type": "markdown",
   "id": "d386afe6-2831-4f7b-b1da-4e759ec37678",
   "metadata": {},
   "source": [
    "**Set up** \n",
    "- Alice, Bob, and Charlie each have 2 communication quantum memories and 2 data quantum memories\n",
    "- Alice is going to teleport 1 data qubit to Bob's communication memory and teleport 1 data qubit to Charlie's communication memory concurrently."
   ]
  },
  {
   "cell_type": "markdown",
   "id": "26aeb69d-6314-46ef-a5ac-1fee6b871c96",
   "metadata": {},
   "source": [
    "## 2. Show Me The Code"
   ]
  },
  {
   "cell_type": "markdown",
   "id": "5b808f08-82b7-437b-9b1c-cd8c408cd8d5",
   "metadata": {},
   "source": [
    "**The imports**\n",
    "\n",
    "- `log`: defines the behavior for the default SeQUeNCe logging system\n",
    "- `TeleportApp`: TeleportApp is a specialized RequestApp that implements quantum teleportation. It handles the teleportation protocol between two quantum nodes (Alice and Bob).\n",
    "- `DQCNode`: Node that supports Distributed Quantum Computing\n",
    "- `DQCNetTopo`: Class for generating a distributed quantum computing network with distributed quantum computing nodes\n",
    "- `random_state`: Generate a random quantum state\n",
    "- `verify_same_state_vector`: verify whether two state vectors are the same\n"
   ]
  },
  {
   "cell_type": "code",
   "execution_count": 2,
   "id": "f9dbd677-4416-4cad-9172-40d6aab32279",
   "metadata": {},
   "outputs": [],
   "source": [
    "import numpy as np\n",
    "import sequence.utils.log as log\n",
    "from sequence.app.teleport_app import TeleportApp\n",
    "from sequence.topology.node import DQCNode\n",
    "from sequence.topology.dqc_net_topo import DQCNetTopo\n",
    "from sequence.kernel.quantum_utils import random_state, verify_same_state_vector\n",
    "from sequence.constants import MILLISECOND"
   ]
  },
  {
   "cell_type": "markdown",
   "id": "7c02d3ae-bf25-4b7a-99d7-609287fb0284",
   "metadata": {},
   "source": [
    "### 2.1 The teleport() function"
   ]
  },
  {
   "cell_type": "markdown",
   "id": "659a4f93-4f4e-45e5-964f-c62bb6342376",
   "metadata": {},
   "source": [
    "#### Exercise: There are 7 lines of code for you to fill, they are [TODO 1, ..., TODO 7]"
   ]
  },
  {
   "cell_type": "code",
   "execution_count": 6,
   "id": "0be89adc-b0fa-451e-b91d-b79aa6b282e9",
   "metadata": {},
   "outputs": [],
   "source": [
    "start_t  = 1 * MILLISECOND # global variable, need to use latter too\n",
    "\n",
    "def teleport(psi_b: np.array, psi_c: np.array, seed: int, memory_efficiency_b: float, memory_efficiency_c: float) -> tuple:\n",
    "    \"\"\"Alice does teleportation to Bob and Charlie concurrently\n",
    "    \n",
    "    Args:\n",
    "        psi_b (np.array): the state to be teleported from alice to bob\n",
    "        psi_c (np.array): the state to be teleported from alice to charlie\n",
    "        seed (int): the random seed\n",
    "        memory_efficiency_b (float): the memory efficiency for bob\n",
    "        memory_efficiency_c (float): the memory efficiency for charlie\n",
    "    Return:\n",
    "        (time_stamp_b, time_stamp_c): the time stamp when the teleportation is done at bob and charlie\n",
    "    \"\"\"\n",
    "    \n",
    "    # TODO 1: Read the 3-node quantum network, use the class DQCNetTopo, the config filename is \"teleport_3node.json\"\n",
    "    # topo = \n",
    "    tl   = topo.tl\n",
    "\n",
    "    nodes = topo.nodes[DQCNetTopo.DQC_NODE]\n",
    "    bsm_nodes = topo.nodes[DQCNetTopo.BSM_NODE]\n",
    "    alice = next(n for n in nodes if n.name==\"alice\")\n",
    "    bob   = next(n for n in nodes if n.name==\"bob\")\n",
    "    charlie = next(n for n in nodes if n.name==\"charlie\")    \n",
    "    bsm_ab = next(n for n in bsm_nodes if n.name == \"BSM_alice_bob\")\n",
    "    bsm_ac = next(n for n in bsm_nodes if n.name == \"BSM_alice_charlie\")\n",
    "\n",
    "    # 0) Set seed\n",
    "    bsm_ab.set_seed(seed)\n",
    "    bsm_ac.set_seed(seed + 10)\n",
    "\n",
    "    # 1) Set the communication memory efficiency\n",
    "    bob_comm_memo_arr = bob.get_component_by_name(bob.memo_arr_name)\n",
    "    bob_comm_memo_arr.update_memory_params(\"efficiency\", memory_efficiency_b)\n",
    "    # TODO 2: Set the communication memory efficiency for Charlie\n",
    "    \n",
    "    # 2) Prepare |ψ> in Alice’s data qubit\n",
    "    to_bob_memory_index = 0\n",
    "    to_charlie_memory_index = 1\n",
    "    data_memo_arr = alice.get_component_by_name(alice.data_memo_arr_name)\n",
    "    data_memo_arr[to_bob_memory_index].update_state(psi_b)\n",
    "    # TODO 3: prepare the qubit to be teleported to Charlie\n",
    "\n",
    "    # 3) Attach the TeleportApp on all nodes\n",
    "    alice_app   = TeleportApp(alice)\n",
    "    # TODO 4: Attach TeleportApp to Bob\n",
    "    # TODO 5: Attach TeleportApp to Charlie\n",
    "    \n",
    "    # 4) Kick off teleport\n",
    "    end_t    = 200 * MILLISECOND\n",
    "    fidelity = 0.1                 # not to activate distillation\n",
    "    mem_size = 1\n",
    "\n",
    "    alice_app.start(bob.name,     start_t, end_t, mem_size, fidelity, to_bob_memory_index)\n",
    "    # TODO 6: Start the teleportation to Charlie\n",
    "    \n",
    "    # 4) Run the simulation\n",
    "    tl.init()\n",
    "    # TODO 7: Run it!\n",
    "    \n",
    "    # 5) Read out Bob’s communication qubit state\n",
    "    bob_timestamp, bob_teleported_qubit         = bob_app.results[0]\n",
    "    charlie_timestamp, charlie_teleported_qubit = charlie_app.results[0]\n",
    "\n",
    "    return (bob_timestamp, bob_teleported_qubit, charlie_timestamp, charlie_teleported_qubit)"
   ]
  },
  {
   "cell_type": "markdown",
   "id": "f40bfcf4-09b5-4d91-9598-8b3b4499a321",
   "metadata": {},
   "source": [
    "### 2.2 Plot the timing distribution\n",
    "\n",
    "We assume the timing distribution is an exponential distribution. The reason is:\n",
    "\n",
    "- The entanglement generation process is a **Bernoulli** process, i.e., (fail, fail, fail, ..., success)\n",
    "- In a Bernoulli process, the **waiting time to success is a geometric distribution**.\n",
    "- Assume the waiting time is a **continuous** variable, then the geometric distribution becomes an **exponential distribution (Poisson process)**.\n",
    "\n",
    "**NOTE**: the timing data collected in this tutorial is the Bernoulli process (entanglement generation) + a classical channel classical delay (alice sending bob the Bell measurement result)\n",
    "- In this tutorial, the classical channel classical delay is 0.5 milliseconds."
   ]
  },
  {
   "cell_type": "code",
   "execution_count": 4,
   "id": "0c0a9bca-a4cc-4cef-8d56-d4f6ae40b367",
   "metadata": {},
   "outputs": [],
   "source": [
    "import numpy as np\n",
    "import matplotlib.pyplot as plt\n",
    "\n",
    "def plot_times_with_exponential(times_b, times_c, bins=30):\n",
    "    \"\"\"\n",
    "    Draw two vertical subplots with bar plots (histograms) and an exponential fit line.\n",
    "\n",
    "    Args:\n",
    "        times_b (list/array): Data for the upper subplot.\n",
    "        times_c (list/array): Data for the lower subplot.\n",
    "        bins (int): Number of histogram bins (uses equal-width bins).\n",
    "    \"\"\"\n",
    "    data_pairs = [(\"Time of Alice Teleporating to Bob\", np.asarray(times_b, dtype=float)),\n",
    "                  (\"Time of Alice Teleporating to Charlie\", np.asarray(times_c, dtype=float))]\n",
    "\n",
    "    fig, axes = plt.subplots(2, 1, figsize=(8, 8), sharex=True)\n",
    "\n",
    "    for ax, (label, data) in zip(axes, data_pairs):\n",
    "        if data.size == 0:\n",
    "            ax.text(0.5, 0.5, f\"No data in {label}\", ha=\"center\", va=\"center\")\n",
    "            ax.set_title(label)\n",
    "            continue\n",
    "\n",
    "        # Exponential is defined for x >= 0. If negatives exist, we can either warn or shift.\n",
    "        # Here we just warn and clip at 0 to avoid math domain issues.\n",
    "        if np.any(data < 0):\n",
    "            ax.text(0.5, 0.92, \"Warning: negatives present; clipped at 0 for exponential fit\",\n",
    "                    ha=\"center\", va=\"top\", transform=ax.transAxes, fontsize=9)\n",
    "            data = np.clip(data, 0, None)\n",
    "\n",
    "        # Histogram as bars (counts, not density)\n",
    "        counts, bin_edges = np.histogram(data, bins=bins)\n",
    "        bin_centers = 0.5 * (bin_edges[:-1] + bin_edges[1:])\n",
    "        widths = bin_edges[1:] - bin_edges[:-1]\n",
    "        ax.bar(bin_centers, counts, width=widths, align=\"center\", alpha=0.6, edgecolor=\"black\")\n",
    "\n",
    "        # Fit exponential by MLE: lambda_hat = 1 / mean (for data >= 0)\n",
    "        mean = np.mean(data)\n",
    "        if mean > 0 and np.isfinite(mean):\n",
    "            lam = 1.0 / mean\n",
    "\n",
    "            # x-range for the curve: from min bin to max bin\n",
    "            x = np.linspace(max(0.0, bin_edges[0]), bin_edges[-1], 400)\n",
    "            # Exponential PDF: lam * exp(-lam * x)\n",
    "            # Scale by (N * avg bin width) to match histogram counts scale\n",
    "            avg_width = np.mean(widths)\n",
    "            y = lam * np.exp(-lam * x) * data.size * avg_width\n",
    "\n",
    "            ax.plot(x, y, linewidth=2)\n",
    "            ax.legend([f\"Exponential fit (λ={lam:.3g}, mean={mean:.3g})\", \"Counts\"], loc=\"upper right\")\n",
    "        else:\n",
    "            ax.legend([f\"Degenerate data (mean={mean:.3g})\", \"Counts\"], loc=\"upper right\")\n",
    "\n",
    "        ax.set_ylabel(\"Count\")\n",
    "        ax.set_title(label)\n",
    "        ax.grid(True, linestyle=\"--\", alpha=0.4)\n",
    "\n",
    "    axes[-1].set_xlabel(\"Value\")\n",
    "    fig.tight_layout()\n",
    "    plt.show()"
   ]
  },
  {
   "cell_type": "markdown",
   "id": "f209e2b1-3a27-4b13-bcc4-fcc539be76dc",
   "metadata": {},
   "source": [
    "### 2.3 The main() and the Plot"
   ]
  },
  {
   "cell_type": "code",
   "execution_count": 63,
   "id": "5ce5ecef-e28b-4cd2-a980-c1ea8b0b4380",
   "metadata": {},
   "outputs": [],
   "source": [
    "def main(memory_efficiency_b: float, memory_efficiency_c: float):\n",
    "\n",
    "    times_b = []\n",
    "    times_c = []\n",
    "    \n",
    "    psi_b = np.array(random_state())\n",
    "    psi_c = np.array(random_state())\n",
    "\n",
    "    for seed in range(300):\n",
    "        results = teleport(psi_b, psi_c, seed, memory_efficiency_b, memory_efficiency_c)  # run the teleporation\n",
    "        time_b, teleported_psi_b, time_c, teleported_psi_c = results\n",
    "        \n",
    "        assert verify_same_state_vector(teleported_psi_b, psi_b), f\"teleported state {teleported_psi} != original {psi}\"\n",
    "        assert verify_same_state_vector(teleported_psi_c, psi_c), f\"teleported state {teleported_psi} != original {psi}\"\n",
    "\n",
    "        times_b.append((time_b - start_t)/MILLISECOND)\n",
    "        times_c.append((time_c - start_t)/MILLISECOND)\n",
    "\n",
    "    return times_b, times_c"
   ]
  },
  {
   "cell_type": "code",
   "execution_count": null,
   "id": "35d1b103-6519-4b9e-9165-e2383d0260fa",
   "metadata": {},
   "outputs": [],
   "source": [
    "# Please change the two memory efficiencies and rerun this cell\n",
    "memory_efficiency_bob     = 0.5\n",
    "memory_efficiency_charlie = 1\n",
    "\n",
    "times_b, times_c = main(memory_efficiency_bob, memory_efficiency_charlie)\n",
    "plot_times_with_exponential(times_b, times_c, bins=20)"
   ]
  },
  {
   "cell_type": "code",
   "execution_count": null,
   "id": "6fb8f06c-b077-409f-aa8e-5b002df42d46",
   "metadata": {},
   "outputs": [],
   "source": []
  }
 ],
 "metadata": {
  "kernelspec": {
   "display_name": "Python 3 (ipykernel)",
   "language": "python",
   "name": "python3"
  },
  "language_info": {
   "codemirror_mode": {
    "name": "ipython",
    "version": 3
   },
   "file_extension": ".py",
   "mimetype": "text/x-python",
   "name": "python",
   "nbconvert_exporter": "python",
   "pygments_lexer": "ipython3",
   "version": "3.13.5"
  }
 },
 "nbformat": 4,
 "nbformat_minor": 5
}
