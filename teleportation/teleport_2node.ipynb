{
 "cells": [
  {
   "cell_type": "markdown",
   "id": "de00ffbb-db06-4739-8631-2ad047bf436c",
   "metadata": {},
   "source": [
    "# Quantum Teleporation Application -- 2 Node"
   ]
  },
  {
   "cell_type": "markdown",
   "id": "ff415ec6-b546-47a1-a1cc-03d3944d81e6",
   "metadata": {},
   "source": [
    "In this demo, we'll demonstrate the simulation of the teleportation application. The network topology will have two nodes: Alice and Bob. Alice will teleport a qubit to Bob. "
   ]
  },
  {
   "cell_type": "markdown",
   "id": "3f5ab728-0253-44a6-86ef-9765ef57233c",
   "metadata": {},
   "source": [
    "## 1. The Basics\n",
    "\n",
    "The figure below shows the quantum circuit of teleportation, as well as showing which qubits belong to Alice and which qubit belongs to Bob."
   ]
  },
  {
   "cell_type": "markdown",
   "id": "9af1a5d0-a014-496c-9573-965a9017c550",
   "metadata": {},
   "source": [
    "<img src=\"../figures/teleport-circuit.png\" width=\"600\">"
   ]
  },
  {
   "cell_type": "markdown",
   "id": "d386afe6-2831-4f7b-b1da-4e759ec37678",
   "metadata": {},
   "source": [
    "**Set up**: Assume node Alice and Bob both have two quantum memories, one labeled as data memory and the other labeled as communication memory. There is a quantum channel between Alice and Bob, and the BSM node is in the middle of the quantum channel.\n",
    "\n",
    "Let's break down quantum teleportation into 4 steps."
   ]
  },
  {
   "cell_type": "markdown",
   "id": "5c72c443-a03f-439e-b13d-cff52792b8d3",
   "metadata": {},
   "source": [
    "**Step 1**: The tradition is to let Alice send a qubit to Bob. So, Alice prepares $\\ket{\\psi}$ at memory $d_1$.\n",
    "\n",
    "<img src=\"../figures/teleport-1.png\" width=\"600\">"
   ]
  },
  {
   "cell_type": "markdown",
   "id": "4ba4f938-3802-4540-b8e4-7451566506ff",
   "metadata": {},
   "source": [
    "**Step 2**: Generate an entangled pair between Alice's memory $c_1$ and Bob's memory $c_2$.\n",
    "\n",
    "<img src=\"../figures/teleport-2.png\" width=\"600\">"
   ]
  },
  {
   "cell_type": "markdown",
   "id": "16e64051-31e3-4f69-8034-60d24e6a57e7",
   "metadata": {},
   "source": [
    "**Step 3**: Alice does a Bell measurement on it's memory $d_1$ and $c_1$. The measurement results are sent to Bob.\n",
    "\n",
    "<img src=\"../figures/teleport-3.png\" width=\"600\">"
   ]
  },
  {
   "cell_type": "markdown",
   "id": "ce54d390-2cc1-49a8-a681-27c6eb2dff42",
   "metadata": {},
   "source": [
    "**Step 4**: Bob does the correction on $c_2$ upon receiving the measurement results. Then $\\ket{\\psi}$ is teleported to Bob's memory $c_2$.\n",
    "\n",
    "<img src=\"../figures/teleport-4.png\" width=\"600\">"
   ]
  },
  {
   "cell_type": "markdown",
   "id": "26aeb69d-6314-46ef-a5ac-1fee6b871c96",
   "metadata": {},
   "source": [
    "## 2. The Code"
   ]
  },
  {
   "cell_type": "markdown",
   "id": "5b808f08-82b7-437b-9b1c-cd8c408cd8d5",
   "metadata": {},
   "source": [
    "**The imports**\n",
    "\n",
    "- `log`: defines the behavior for the default SeQUeNCe logging system\n",
    "- `TeleportApp`: TeleportApp is a specialized RequestApp that implements quantum teleportation. It handles the teleportation protocol between two quantum nodes (Alice and Bob).\n",
    "- `DQCNode`: Node that supports Distributed Quantum Computing\n",
    "- `DQCNetTopo`: Class for generating a distributed quantum computing network with distributed quantum computing nodes\n",
    "- `random_state`: Generate a random quantum state\n",
    "- `verify_same_state_vector`: verify whether two state vectors are the same\n"
   ]
  },
  {
   "cell_type": "code",
   "execution_count": 1,
   "id": "f9dbd677-4416-4cad-9172-40d6aab32279",
   "metadata": {},
   "outputs": [],
   "source": [
    "import numpy as np\n",
    "import sequence.utils.log as log\n",
    "from sequence.app.teleport_app import TeleportApp\n",
    "from sequence.topology.node import DQCNode\n",
    "from sequence.topology.dqc_net_topo import DQCNetTopo\n",
    "from sequence.kernel.quantum_utils import random_state, verify_same_state_vector\n",
    "from sequence.constants import MILLISECOND"
   ]
  },
  {
   "cell_type": "markdown",
   "id": "7c02d3ae-bf25-4b7a-99d7-609287fb0284",
   "metadata": {},
   "source": [
    "### 2.1 The teleport() function\n",
    "\n",
    "Teleport a $\\ket{\\psi}$ from Alice to Bob"
   ]
  },
  {
   "cell_type": "code",
   "execution_count": 2,
   "id": "0be89adc-b0fa-451e-b91d-b79aa6b282e9",
   "metadata": {},
   "outputs": [],
   "source": [
    "def teleport(psi: np.array, seed: int = 0) -> np.array:\n",
    "    \"\"\"Do a teleportation\n",
    "    \n",
    "    Args:\n",
    "        psi (np.array): the state to be teleported at Alice\n",
    "        seed (int): the random seed\n",
    "    Return:\n",
    "        np.array: the state received at Bob\n",
    "    \"\"\"\n",
    "    \n",
    "    topo = DQCNetTopo(\"teleport_2node.json\")\n",
    "    tl   = topo.tl\n",
    "\n",
    "    log_filename = 'teleport_2node.log'\n",
    "    log.set_logger(__name__, tl, log_filename)\n",
    "    log.set_logger_level('INFO')\n",
    "    modules = ['generation', 'teleportation', 'teleport_app']\n",
    "    for module in modules:\n",
    "        log.track_module(module)\n",
    "\n",
    "    nodes = topo.nodes[DQCNetTopo.DQC_NODE]\n",
    "    alice = next(n for n in nodes if n.name==\"alice\")\n",
    "    bob   = next(n for n in nodes if n.name==\"bob\")\n",
    "\n",
    "    # 0) set seed\n",
    "    bsm_nodes = topo.nodes.get(DQCNetTopo.BSM_NODE, [])\n",
    "    for bsm_node in bsm_nodes:\n",
    "        bsm_node.set_seed(seed)\n",
    "    \n",
    "    # 1) Prepare |ψ> in Alice’s data qubit\n",
    "    data_memo_arr = alice.get_component_by_name(alice.data_memo_arr_name)\n",
    "    data_memo_arr[0].update_state(psi)\n",
    "\n",
    "    # 2) Attach the TeleportApp on both nodes\n",
    "    alice_app = TeleportApp(alice)\n",
    "    bob_app   = TeleportApp(bob)\n",
    "\n",
    "    # 3) Kick off teleport\n",
    "    alice_app.start(\n",
    "        responder   = bob.name,\n",
    "        start_t     = 1  * MILLISECOND,\n",
    "        end_t       = 100 * MILLISECOND,\n",
    "        memory_size = 1,\n",
    "        fidelity    = 0.8,\n",
    "        data_memory_index = 0\n",
    "    )\n",
    "    \n",
    "    # 4) Run the simulation\n",
    "    tl.init()\n",
    "    tl.run()\n",
    "    \n",
    "    # 5) Read out Bob’s communication qubit state\n",
    "    timestamp, teleported_qubit = bob_app.results[0]\n",
    "\n",
    "    return np.array(teleported_qubit)"
   ]
  },
  {
   "cell_type": "markdown",
   "id": "f209e2b1-3a27-4b13-bcc4-fcc539be76dc",
   "metadata": {},
   "source": [
    "### 2.2 The main() function"
   ]
  },
  {
   "cell_type": "code",
   "execution_count": 3,
   "id": "5ce5ecef-e28b-4cd2-a980-c1ea8b0b4380",
   "metadata": {},
   "outputs": [],
   "source": [
    "def main():\n",
    "\n",
    "    psi = np.array(random_state())\n",
    "    \n",
    "    seed = np.random.randint(0, 1000)\n",
    "    teleported_psi = teleport(psi, seed)  # run the teleporation\n",
    "    \n",
    "    print(f'psi            = {psi}')\n",
    "    print(f'teleported psi = {teleported_psi}')\n",
    "    \n",
    "    assert verify_same_state_vector(teleported_psi, psi), f\"teleported state {teleported_psi} != original {psi}\"\n",
    "    \n",
    "    print('\\npsi = teleported_psi --> teleporation success!')\n",
    "    \n",
    "    print('\\nThe teleport_2node.log:\\n')\n",
    "    with open(\"teleport_2node.log\", \"r\") as f:\n",
    "        logs = f.read()\n",
    "        print(logs)"
   ]
  },
  {
   "cell_type": "code",
   "execution_count": 22,
   "id": "35d1b103-6519-4b9e-9165-e2383d0260fa",
   "metadata": {},
   "outputs": [
    {
     "name": "stdout",
     "output_type": "stream",
     "text": [
      "psi            = [0.59815115+0.j         0.74636277+0.29181811j]\n",
      "teleported psi = [0.59815115+0.j         0.74636277+0.29181811j]\n",
      "\n",
      "psi = teleported_psi --> teleporation success!\n",
      "\n",
      "The teleport_2node.log:\n",
      "\n",
      "3,002,500,010        INFO    generation             alice failed entanglement of memory alice.MemoryArray[0]\n",
      "3,002,500,010        INFO    generation             bob failed entanglement of memory bob.MemoryArray[0]\n",
      "5,005,012,510        INFO    generation             alice failed entanglement of memory alice.MemoryArray[0]\n",
      "5,005,012,510        INFO    generation             bob failed entanglement of memory bob.MemoryArray[0]\n",
      "8,510,037,510        INFO    generation             alice failed entanglement of memory alice.MemoryArray[0]\n",
      "8,510,037,510        INFO    generation             bob failed entanglement of memory bob.MemoryArray[0]\n",
      "10,512,550,010       INFO    generation             alice failed entanglement of memory alice.MemoryArray[0]\n",
      "10,512,550,010       INFO    generation             bob failed entanglement of memory bob.MemoryArray[0]\n",
      "14,017,575,010       INFO    generation             alice failed entanglement of memory alice.MemoryArray[0]\n",
      "14,017,575,010       INFO    generation             bob failed entanglement of memory bob.MemoryArray[0]\n",
      "16,020,087,510       INFO    generation             alice failed entanglement of memory alice.MemoryArray[0]\n",
      "16,020,087,510       INFO    generation             bob failed entanglement of memory bob.MemoryArray[0]\n",
      "19,525,112,510       INFO    generation             alice failed entanglement of memory alice.MemoryArray[0]\n",
      "19,525,112,510       INFO    generation             bob failed entanglement of memory bob.MemoryArray[0]\n",
      "23,030,137,510       INFO    generation             alice successful entanglement of memory alice.MemoryArray[0]\n",
      "23,030,137,510       INFO    generation             bob successful entanglement of memory bob.MemoryArray[0]\n",
      "23,030,137,510       INFO    teleportation          alice.teleport.bob.DataMemoryArray[0] bell measurement results: x=1, z=1, remote memory=bob.MemoryArray[0]\n",
      "23,530,137,510       INFO    teleportation          bob.teleport.alice: X-flip applied on memory bob.MemoryArray[0]\n",
      "23,530,137,510       INFO    teleportation          bob.teleport.alice: Z-flip applied on memory bob.MemoryArray[0]\n",
      "23,530,137,510       INFO    teleport_app           bob.TeleportApp: teleport done, state=[0.59815115+0.j         0.74636277+0.29181811j]\n",
      "\n"
     ]
    }
   ],
   "source": [
    "# please run this cell repeatedly\n",
    "main()"
   ]
  },
  {
   "cell_type": "markdown",
   "id": "65b3fa23-3ee0-42e9-b62b-6fab30e0204d",
   "metadata": {},
   "source": [
    "# 3 Analyze the log"
   ]
  },
  {
   "cell_type": "markdown",
   "id": "25a8a43c-d595-45d3-8da9-00cd6e5b1834",
   "metadata": {},
   "source": [
    "<img src=\"../figures/teleport-timeline.png\" width=\"800\">"
   ]
  },
  {
   "cell_type": "code",
   "execution_count": null,
   "id": "0a57e5c1-fd36-4c30-9d32-5f7f27e939bf",
   "metadata": {},
   "outputs": [],
   "source": []
  }
 ],
 "metadata": {
  "kernelspec": {
   "display_name": "Python 3 (ipykernel)",
   "language": "python",
   "name": "python3"
  },
  "language_info": {
   "codemirror_mode": {
    "name": "ipython",
    "version": 3
   },
   "file_extension": ".py",
   "mimetype": "text/x-python",
   "name": "python",
   "nbconvert_exporter": "python",
   "pygments_lexer": "ipython3",
   "version": "3.13.5"
  }
 },
 "nbformat": 4,
 "nbformat_minor": 5
}
